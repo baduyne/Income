{
 "cells": [
  {
   "cell_type": "markdown",
   "metadata": {},
   "source": [
    "# **PROCESSING INCOME**"
   ]
  },
  {
   "cell_type": "code",
   "execution_count": null,
   "metadata": {},
   "outputs": [],
   "source": [
    "import pandas as pd\n",
    "import numpy as np\n",
    "import matplotlib as plt \n",
    "import stat \n",
    "import sklearn as sk"
   ]
  },
  {
   "cell_type": "markdown",
   "metadata": {},
   "source": [
    "## **1. Data Collection**"
   ]
  },
  {
   "cell_type": "code",
   "execution_count": 2,
   "metadata": {},
   "outputs": [],
   "source": [
    "from ucimlrepo import fetch_ucirepo \n",
    "  \n",
    "# fetch dataset \n",
    "adult = fetch_ucirepo(id=2) \n",
    "  \n",
    "# data (as pandas dataframes) \n",
    "X = adult.data.features \n",
    "y = adult.data.targets \n",
    "  "
   ]
  },
  {
   "cell_type": "code",
   "execution_count": 4,
   "metadata": {},
   "outputs": [
    {
     "data": {
      "text/plain": [
       "(48842, 14)"
      ]
     },
     "execution_count": 4,
     "metadata": {},
     "output_type": "execute_result"
    }
   ],
   "source": [
    "X.shape"
   ]
  },
  {
   "cell_type": "code",
   "execution_count": 7,
   "metadata": {},
   "outputs": [
    {
     "data": {
      "text/plain": [
       "(48842, 1)"
      ]
     },
     "execution_count": 7,
     "metadata": {},
     "output_type": "execute_result"
    }
   ],
   "source": [
    "y.shape"
   ]
  },
  {
   "cell_type": "code",
   "execution_count": 11,
   "metadata": {},
   "outputs": [],
   "source": [
    "# meger data with columns\n",
    "raw_data = pd.concat([X,y], axis= 1) "
   ]
  },
  {
   "cell_type": "code",
   "execution_count": 12,
   "metadata": {},
   "outputs": [
    {
     "data": {
      "text/plain": [
       "(48842, 15)"
      ]
     },
     "execution_count": 12,
     "metadata": {},
     "output_type": "execute_result"
    }
   ],
   "source": [
    "raw_data.shape"
   ]
  },
  {
   "cell_type": "code",
   "execution_count": 13,
   "metadata": {},
   "outputs": [
    {
     "data": {
      "text/html": [
       "<div>\n",
       "<style scoped>\n",
       "    .dataframe tbody tr th:only-of-type {\n",
       "        vertical-align: middle;\n",
       "    }\n",
       "\n",
       "    .dataframe tbody tr th {\n",
       "        vertical-align: top;\n",
       "    }\n",
       "\n",
       "    .dataframe thead th {\n",
       "        text-align: right;\n",
       "    }\n",
       "</style>\n",
       "<table border=\"1\" class=\"dataframe\">\n",
       "  <thead>\n",
       "    <tr style=\"text-align: right;\">\n",
       "      <th></th>\n",
       "      <th>age</th>\n",
       "      <th>workclass</th>\n",
       "      <th>fnlwgt</th>\n",
       "      <th>education</th>\n",
       "      <th>education-num</th>\n",
       "      <th>marital-status</th>\n",
       "      <th>occupation</th>\n",
       "      <th>relationship</th>\n",
       "      <th>race</th>\n",
       "      <th>sex</th>\n",
       "      <th>capital-gain</th>\n",
       "      <th>capital-loss</th>\n",
       "      <th>hours-per-week</th>\n",
       "      <th>native-country</th>\n",
       "      <th>income</th>\n",
       "    </tr>\n",
       "  </thead>\n",
       "  <tbody>\n",
       "    <tr>\n",
       "      <th>0</th>\n",
       "      <td>39</td>\n",
       "      <td>State-gov</td>\n",
       "      <td>77516</td>\n",
       "      <td>Bachelors</td>\n",
       "      <td>13</td>\n",
       "      <td>Never-married</td>\n",
       "      <td>Adm-clerical</td>\n",
       "      <td>Not-in-family</td>\n",
       "      <td>White</td>\n",
       "      <td>Male</td>\n",
       "      <td>2174</td>\n",
       "      <td>0</td>\n",
       "      <td>40</td>\n",
       "      <td>United-States</td>\n",
       "      <td>&lt;=50K</td>\n",
       "    </tr>\n",
       "    <tr>\n",
       "      <th>1</th>\n",
       "      <td>50</td>\n",
       "      <td>Self-emp-not-inc</td>\n",
       "      <td>83311</td>\n",
       "      <td>Bachelors</td>\n",
       "      <td>13</td>\n",
       "      <td>Married-civ-spouse</td>\n",
       "      <td>Exec-managerial</td>\n",
       "      <td>Husband</td>\n",
       "      <td>White</td>\n",
       "      <td>Male</td>\n",
       "      <td>0</td>\n",
       "      <td>0</td>\n",
       "      <td>13</td>\n",
       "      <td>United-States</td>\n",
       "      <td>&lt;=50K</td>\n",
       "    </tr>\n",
       "    <tr>\n",
       "      <th>2</th>\n",
       "      <td>38</td>\n",
       "      <td>Private</td>\n",
       "      <td>215646</td>\n",
       "      <td>HS-grad</td>\n",
       "      <td>9</td>\n",
       "      <td>Divorced</td>\n",
       "      <td>Handlers-cleaners</td>\n",
       "      <td>Not-in-family</td>\n",
       "      <td>White</td>\n",
       "      <td>Male</td>\n",
       "      <td>0</td>\n",
       "      <td>0</td>\n",
       "      <td>40</td>\n",
       "      <td>United-States</td>\n",
       "      <td>&lt;=50K</td>\n",
       "    </tr>\n",
       "    <tr>\n",
       "      <th>3</th>\n",
       "      <td>53</td>\n",
       "      <td>Private</td>\n",
       "      <td>234721</td>\n",
       "      <td>11th</td>\n",
       "      <td>7</td>\n",
       "      <td>Married-civ-spouse</td>\n",
       "      <td>Handlers-cleaners</td>\n",
       "      <td>Husband</td>\n",
       "      <td>Black</td>\n",
       "      <td>Male</td>\n",
       "      <td>0</td>\n",
       "      <td>0</td>\n",
       "      <td>40</td>\n",
       "      <td>United-States</td>\n",
       "      <td>&lt;=50K</td>\n",
       "    </tr>\n",
       "    <tr>\n",
       "      <th>4</th>\n",
       "      <td>28</td>\n",
       "      <td>Private</td>\n",
       "      <td>338409</td>\n",
       "      <td>Bachelors</td>\n",
       "      <td>13</td>\n",
       "      <td>Married-civ-spouse</td>\n",
       "      <td>Prof-specialty</td>\n",
       "      <td>Wife</td>\n",
       "      <td>Black</td>\n",
       "      <td>Female</td>\n",
       "      <td>0</td>\n",
       "      <td>0</td>\n",
       "      <td>40</td>\n",
       "      <td>Cuba</td>\n",
       "      <td>&lt;=50K</td>\n",
       "    </tr>\n",
       "  </tbody>\n",
       "</table>\n",
       "</div>"
      ],
      "text/plain": [
       "   age         workclass  fnlwgt  education  education-num  \\\n",
       "0   39         State-gov   77516  Bachelors             13   \n",
       "1   50  Self-emp-not-inc   83311  Bachelors             13   \n",
       "2   38           Private  215646    HS-grad              9   \n",
       "3   53           Private  234721       11th              7   \n",
       "4   28           Private  338409  Bachelors             13   \n",
       "\n",
       "       marital-status         occupation   relationship   race     sex  \\\n",
       "0       Never-married       Adm-clerical  Not-in-family  White    Male   \n",
       "1  Married-civ-spouse    Exec-managerial        Husband  White    Male   \n",
       "2            Divorced  Handlers-cleaners  Not-in-family  White    Male   \n",
       "3  Married-civ-spouse  Handlers-cleaners        Husband  Black    Male   \n",
       "4  Married-civ-spouse     Prof-specialty           Wife  Black  Female   \n",
       "\n",
       "   capital-gain  capital-loss  hours-per-week native-country income  \n",
       "0          2174             0              40  United-States  <=50K  \n",
       "1             0             0              13  United-States  <=50K  \n",
       "2             0             0              40  United-States  <=50K  \n",
       "3             0             0              40  United-States  <=50K  \n",
       "4             0             0              40           Cuba  <=50K  "
      ]
     },
     "execution_count": 13,
     "metadata": {},
     "output_type": "execute_result"
    }
   ],
   "source": [
    "raw_data.head(5)"
   ]
  },
  {
   "cell_type": "markdown",
   "metadata": {},
   "source": [
    "**the mean value of features**\n",
    "| `Thuộc tính`         | Mô tả                                                                 |\n",
    "|--------------------|----------------------------------------------------------------------|\n",
    "| `age`                | Tuổi của cá nhân.                                                     |\n",
    "| `workclass`         | Loại hình việc làm (ví dụ: Tư nhân, Chính phủ, Tự kinh doanh, v.v.). |\n",
    "| `fnlwgt`             | Trọng số cuối cùng của khảo sát.                                     |\n",
    "| `education`          | Trình độ học vấn.                                                     |\n",
    "| `education-num`      | Số năm học (dưới dạng số nguyên).                                     |\n",
    "| `marital-status`     | Tình trạng hôn nhân (độc thân, đã kết hôn, đã ly hôn, v.v.).          |\n",
    "| `occupation`         | Nghề nghiệp (Quản lý, Hành chính, Dịch vụ, v.v.).                     |\n",
    "| `relationship`       | Quan hệ với chủ hộ (vợ/chồng, con cái, người thân khác, v.v.).        |\n",
    "| `race`               | Chủng tộc.                                                            |\n",
    "| `sex`                | Giới tính.                                                            |\n",
    "| `capital-gain`       | Thu nhập từ vốn (không phải từ lương).                               |\n",
    "| `capital-loss`       | Khoản lỗ từ vốn (từ đầu tư).                                          |\n",
    "| `hours-per-week`     | Số giờ làm việc mỗi tuần.                                             |\n",
    "| `native-country`     | Quốc gia xuất xứ.                                                     |\n",
    "\"\"\""
   ]
  },
  {
   "cell_type": "code",
   "execution_count": 24,
   "metadata": {},
   "outputs": [
    {
     "data": {
      "text/plain": [
       "Index(['age', 'workclass', 'fnlwgt', 'education', 'education-num',\n",
       "       'marital-status', 'occupation', 'relationship', 'race', 'sex',\n",
       "       'capital-gain', 'capital-loss', 'hours-per-week', 'native-country',\n",
       "       'income'],\n",
       "      dtype='object')"
      ]
     },
     "execution_count": 24,
     "metadata": {},
     "output_type": "execute_result"
    }
   ],
   "source": [
    "raw_data.columns"
   ]
  },
  {
   "cell_type": "code",
   "execution_count": 25,
   "metadata": {},
   "outputs": [
    {
     "data": {
      "text/plain": [
       "age                int64\n",
       "workclass         object\n",
       "fnlwgt             int64\n",
       "education         object\n",
       "education-num      int64\n",
       "marital-status    object\n",
       "occupation        object\n",
       "relationship      object\n",
       "race              object\n",
       "sex               object\n",
       "capital-gain       int64\n",
       "capital-loss       int64\n",
       "hours-per-week     int64\n",
       "native-country    object\n",
       "income            object\n",
       "dtype: object"
      ]
     },
     "execution_count": 25,
     "metadata": {},
     "output_type": "execute_result"
    }
   ],
   "source": [
    "raw_data.dtypes"
   ]
  },
  {
   "cell_type": "markdown",
   "metadata": {},
   "source": [
    "## **2. Data Cleaning**"
   ]
  },
  {
   "cell_type": "markdown",
   "metadata": {},
   "source": [
    "### **2.1 Check duplicated records**"
   ]
  },
  {
   "cell_type": "code",
   "execution_count": null,
   "metadata": {},
   "outputs": [],
   "source": [
    "num_dup_rows = raw_data.duplicated(keep=\"first\").sum()\n",
    "num_dup_rows"
   ]
  },
  {
   "cell_type": "code",
   "execution_count": 22,
   "metadata": {},
   "outputs": [],
   "source": [
    "raw_data = raw_data.drop_duplicates(keep=\"first\")"
   ]
  },
  {
   "cell_type": "code",
   "execution_count": 23,
   "metadata": {},
   "outputs": [
    {
     "data": {
      "text/plain": [
       "np.int64(0)"
      ]
     },
     "execution_count": 23,
     "metadata": {},
     "output_type": "execute_result"
    }
   ],
   "source": [
    "raw_data.duplicated(keep=\"first\").sum()"
   ]
  },
  {
   "cell_type": "markdown",
   "metadata": {},
   "source": [
    "### **2.2 Missing value**"
   ]
  },
  {
   "cell_type": "markdown",
   "metadata": {},
   "source": [
    "**how is the dataset distributed ?**"
   ]
  },
  {
   "cell_type": "code",
   "execution_count": 26,
   "metadata": {},
   "outputs": [
    {
     "data": {
      "text/html": [
       "<div>\n",
       "<style scoped>\n",
       "    .dataframe tbody tr th:only-of-type {\n",
       "        vertical-align: middle;\n",
       "    }\n",
       "\n",
       "    .dataframe tbody tr th {\n",
       "        vertical-align: top;\n",
       "    }\n",
       "\n",
       "    .dataframe thead th {\n",
       "        text-align: right;\n",
       "    }\n",
       "</style>\n",
       "<table border=\"1\" class=\"dataframe\">\n",
       "  <thead>\n",
       "    <tr style=\"text-align: right;\">\n",
       "      <th></th>\n",
       "      <th>age</th>\n",
       "      <th>fnlwgt</th>\n",
       "      <th>education-num</th>\n",
       "      <th>capital-gain</th>\n",
       "      <th>capital-loss</th>\n",
       "      <th>hours-per-week</th>\n",
       "    </tr>\n",
       "  </thead>\n",
       "  <tbody>\n",
       "    <tr>\n",
       "      <th>missing_ratio</th>\n",
       "      <td>0.0</td>\n",
       "      <td>0.0</td>\n",
       "      <td>0.0</td>\n",
       "      <td>0.0</td>\n",
       "      <td>0.0</td>\n",
       "      <td>0.0</td>\n",
       "    </tr>\n",
       "    <tr>\n",
       "      <th>min</th>\n",
       "      <td>17.0</td>\n",
       "      <td>12285.0</td>\n",
       "      <td>1.0</td>\n",
       "      <td>0.0</td>\n",
       "      <td>0.0</td>\n",
       "      <td>1.0</td>\n",
       "    </tr>\n",
       "    <tr>\n",
       "      <th>lower_quantile</th>\n",
       "      <td>28.0</td>\n",
       "      <td>117555.0</td>\n",
       "      <td>9.0</td>\n",
       "      <td>0.0</td>\n",
       "      <td>0.0</td>\n",
       "      <td>40.0</td>\n",
       "    </tr>\n",
       "    <tr>\n",
       "      <th>median</th>\n",
       "      <td>37.0</td>\n",
       "      <td>178140.0</td>\n",
       "      <td>10.0</td>\n",
       "      <td>0.0</td>\n",
       "      <td>0.0</td>\n",
       "      <td>40.0</td>\n",
       "    </tr>\n",
       "    <tr>\n",
       "      <th>upper_quantile</th>\n",
       "      <td>48.0</td>\n",
       "      <td>237620.0</td>\n",
       "      <td>12.0</td>\n",
       "      <td>0.0</td>\n",
       "      <td>0.0</td>\n",
       "      <td>45.0</td>\n",
       "    </tr>\n",
       "    <tr>\n",
       "      <th>max</th>\n",
       "      <td>90.0</td>\n",
       "      <td>1490400.0</td>\n",
       "      <td>16.0</td>\n",
       "      <td>99999.0</td>\n",
       "      <td>4356.0</td>\n",
       "      <td>99.0</td>\n",
       "    </tr>\n",
       "  </tbody>\n",
       "</table>\n",
       "</div>"
      ],
      "text/plain": [
       "                 age     fnlwgt  education-num  capital-gain  capital-loss  \\\n",
       "missing_ratio    0.0        0.0            0.0           0.0           0.0   \n",
       "min             17.0    12285.0            1.0           0.0           0.0   \n",
       "lower_quantile  28.0   117555.0            9.0           0.0           0.0   \n",
       "median          37.0   178140.0           10.0           0.0           0.0   \n",
       "upper_quantile  48.0   237620.0           12.0           0.0           0.0   \n",
       "max             90.0  1490400.0           16.0       99999.0        4356.0   \n",
       "\n",
       "                hours-per-week  \n",
       "missing_ratio              0.0  \n",
       "min                        1.0  \n",
       "lower_quantile            40.0  \n",
       "median                    40.0  \n",
       "upper_quantile            45.0  \n",
       "max                       99.0  "
      ]
     },
     "execution_count": 26,
     "metadata": {},
     "output_type": "execute_result"
    }
   ],
   "source": [
    "# missing ratio\n",
    "def missing_ratio(series):\n",
    "    return series.isnull().mean() * 100\n",
    "\n",
    "\n",
    "def lower_quantile(series):\n",
    "    return series.quantile(0.25)\n",
    "\n",
    "def median(series):\n",
    "    return series.median()\n",
    "\n",
    "\n",
    "def upper_quantile(series):\n",
    "    return series.quantile(0.75)\n",
    "\n",
    "# the following function will specifically present the number distribution \n",
    "def number_dis(data):\n",
    "    col = data.select_dtypes(include=['float','int'])\n",
    "    return col.agg([missing_ratio,\"min\",lower_quantile,median,upper_quantile,\"max\"])\n",
    "number_dis(raw_data)"
   ]
  },
  {
   "cell_type": "markdown",
   "metadata": {},
   "source": [
    "- there are no the missing value in number columns"
   ]
  },
  {
   "cell_type": "code",
   "execution_count": 27,
   "metadata": {},
   "outputs": [],
   "source": [
    "def num_values(series):\n",
    "    return series.nunique()\n",
    "\n",
    "def value_ratios(series):\n",
    " \n",
    "    # compute percent of the series without checking for missing values \n",
    "    value_counts = series.value_counts(normalize=True) * 100\n",
    "    \n",
    "    # convert to dictionary type and need to round the percentage\n",
    "    value_ratios = value_counts.round(1).to_dict()\n",
    "    \n",
    "    # sort the dictionary value in ascending\n",
    "    sorted_value_ratios = dict(sorted(value_ratios.items(), key=lambda item: item[1], reverse=True))\n",
    "    \n",
    "    return sorted_value_ratios\n",
    "\n",
    "# the distribution in object features \n",
    "def object_dis(data):\n",
    "    col = data.select_dtypes(include=\"object\") \n",
    "    return col.agg([missing_ratio, num_values, value_ratios])\n",
    "\n",
    "object_features_dic = object_dis(raw_data)"
   ]
  },
  {
   "cell_type": "code",
   "execution_count": 28,
   "metadata": {},
   "outputs": [
    {
     "data": {
      "text/html": [
       "<div>\n",
       "<style scoped>\n",
       "    .dataframe tbody tr th:only-of-type {\n",
       "        vertical-align: middle;\n",
       "    }\n",
       "\n",
       "    .dataframe tbody tr th {\n",
       "        vertical-align: top;\n",
       "    }\n",
       "\n",
       "    .dataframe thead th {\n",
       "        text-align: right;\n",
       "    }\n",
       "</style>\n",
       "<table border=\"1\" class=\"dataframe\">\n",
       "  <thead>\n",
       "    <tr style=\"text-align: right;\">\n",
       "      <th></th>\n",
       "      <th>workclass</th>\n",
       "      <th>education</th>\n",
       "      <th>marital-status</th>\n",
       "      <th>occupation</th>\n",
       "      <th>relationship</th>\n",
       "      <th>race</th>\n",
       "      <th>sex</th>\n",
       "      <th>native-country</th>\n",
       "      <th>income</th>\n",
       "    </tr>\n",
       "  </thead>\n",
       "  <tbody>\n",
       "    <tr>\n",
       "      <th>missing_ratio</th>\n",
       "      <td>1.972835</td>\n",
       "      <td>0.0</td>\n",
       "      <td>0.0</td>\n",
       "      <td>1.978981</td>\n",
       "      <td>0.0</td>\n",
       "      <td>0.0</td>\n",
       "      <td>0.0</td>\n",
       "      <td>0.561326</td>\n",
       "      <td>0.0</td>\n",
       "    </tr>\n",
       "    <tr>\n",
       "      <th>num_values</th>\n",
       "      <td>9</td>\n",
       "      <td>16</td>\n",
       "      <td>7</td>\n",
       "      <td>15</td>\n",
       "      <td>6</td>\n",
       "      <td>5</td>\n",
       "      <td>2</td>\n",
       "      <td>42</td>\n",
       "      <td>4</td>\n",
       "    </tr>\n",
       "    <tr>\n",
       "      <th>value_ratios</th>\n",
       "      <td>{'Private': 70.8, 'Self-emp-not-inc': 8.1, 'Lo...</td>\n",
       "      <td>{'HS-grad': 32.3, 'Some-college': 22.3, 'Bache...</td>\n",
       "      <td>{'Married-civ-spouse': 45.8, 'Never-married': ...</td>\n",
       "      <td>{'Prof-specialty': 12.9, 'Craft-repair': 12.8,...</td>\n",
       "      <td>{'Husband': 40.4, 'Not-in-family': 25.7, 'Own-...</td>\n",
       "      <td>{'White': 85.5, 'Black': 9.6, 'Asian-Pac-Islan...</td>\n",
       "      <td>{'Male': 66.8, 'Female': 33.2}</td>\n",
       "      <td>{'United-States': 90.3, 'Mexico': 2.0, '?': 1....</td>\n",
       "      <td>{'&lt;=50K': 50.6, '&lt;=50K.': 25.5, '&gt;50K': 16.1, ...</td>\n",
       "    </tr>\n",
       "  </tbody>\n",
       "</table>\n",
       "</div>"
      ],
      "text/plain": [
       "                                                       workclass  \\\n",
       "missing_ratio                                           1.972835   \n",
       "num_values                                                     9   \n",
       "value_ratios   {'Private': 70.8, 'Self-emp-not-inc': 8.1, 'Lo...   \n",
       "\n",
       "                                                       education  \\\n",
       "missing_ratio                                                0.0   \n",
       "num_values                                                    16   \n",
       "value_ratios   {'HS-grad': 32.3, 'Some-college': 22.3, 'Bache...   \n",
       "\n",
       "                                                  marital-status  \\\n",
       "missing_ratio                                                0.0   \n",
       "num_values                                                     7   \n",
       "value_ratios   {'Married-civ-spouse': 45.8, 'Never-married': ...   \n",
       "\n",
       "                                                      occupation  \\\n",
       "missing_ratio                                           1.978981   \n",
       "num_values                                                    15   \n",
       "value_ratios   {'Prof-specialty': 12.9, 'Craft-repair': 12.8,...   \n",
       "\n",
       "                                                    relationship  \\\n",
       "missing_ratio                                                0.0   \n",
       "num_values                                                     6   \n",
       "value_ratios   {'Husband': 40.4, 'Not-in-family': 25.7, 'Own-...   \n",
       "\n",
       "                                                            race  \\\n",
       "missing_ratio                                                0.0   \n",
       "num_values                                                     5   \n",
       "value_ratios   {'White': 85.5, 'Black': 9.6, 'Asian-Pac-Islan...   \n",
       "\n",
       "                                          sex  \\\n",
       "missing_ratio                             0.0   \n",
       "num_values                                  2   \n",
       "value_ratios   {'Male': 66.8, 'Female': 33.2}   \n",
       "\n",
       "                                                  native-country  \\\n",
       "missing_ratio                                           0.561326   \n",
       "num_values                                                    42   \n",
       "value_ratios   {'United-States': 90.3, 'Mexico': 2.0, '?': 1....   \n",
       "\n",
       "                                                          income  \n",
       "missing_ratio                                                0.0  \n",
       "num_values                                                     4  \n",
       "value_ratios   {'<=50K': 50.6, '<=50K.': 25.5, '>50K': 16.1, ...  "
      ]
     },
     "execution_count": 28,
     "metadata": {},
     "output_type": "execute_result"
    }
   ],
   "source": [
    "object_features_dic"
   ]
  },
  {
   "cell_type": "markdown",
   "metadata": {},
   "source": [
    "**Show the feature to check value**"
   ]
  },
  {
   "cell_type": "code",
   "execution_count": 34,
   "metadata": {},
   "outputs": [
    {
     "data": {
      "text/plain": [
       "{'Private': 73.6,\n",
       " 'Self-emp-not-inc': 8.4,\n",
       " 'Local-gov': 6.8,\n",
       " 'State-gov': 4.3,\n",
       " 'Self-emp-inc': 3.7,\n",
       " 'Federal-gov': 3.1,\n",
       " 'Without-pay': 0.0,\n",
       " 'Never-worked': 0.0}"
      ]
     },
     "execution_count": 34,
     "metadata": {},
     "output_type": "execute_result"
    }
   ],
   "source": [
    "object_features_dic.loc[\"value_ratios\", \"workclass\"]"
   ]
  },
  {
   "cell_type": "markdown",
   "metadata": {},
   "source": [
    "I observed that there is '?' in each object attribute.\n",
    "Hence, I will replace this with Nan \n"
   ]
  },
  {
   "cell_type": "code",
   "execution_count": 32,
   "metadata": {},
   "outputs": [],
   "source": [
    "raw_data = raw_data.replace(\"?\", np.nan)"
   ]
  },
  {
   "cell_type": "code",
   "execution_count": 33,
   "metadata": {},
   "outputs": [
    {
     "data": {
      "text/html": [
       "<div>\n",
       "<style scoped>\n",
       "    .dataframe tbody tr th:only-of-type {\n",
       "        vertical-align: middle;\n",
       "    }\n",
       "\n",
       "    .dataframe tbody tr th {\n",
       "        vertical-align: top;\n",
       "    }\n",
       "\n",
       "    .dataframe thead th {\n",
       "        text-align: right;\n",
       "    }\n",
       "</style>\n",
       "<table border=\"1\" class=\"dataframe\">\n",
       "  <thead>\n",
       "    <tr style=\"text-align: right;\">\n",
       "      <th></th>\n",
       "      <th>workclass</th>\n",
       "      <th>education</th>\n",
       "      <th>marital-status</th>\n",
       "      <th>occupation</th>\n",
       "      <th>relationship</th>\n",
       "      <th>race</th>\n",
       "      <th>sex</th>\n",
       "      <th>native-country</th>\n",
       "      <th>income</th>\n",
       "    </tr>\n",
       "  </thead>\n",
       "  <tbody>\n",
       "    <tr>\n",
       "      <th>missing_ratio</th>\n",
       "      <td>5.734128</td>\n",
       "      <td>0.0</td>\n",
       "      <td>0.0</td>\n",
       "      <td>5.754615</td>\n",
       "      <td>0.0</td>\n",
       "      <td>0.0</td>\n",
       "      <td>0.0</td>\n",
       "      <td>1.753631</td>\n",
       "      <td>0.0</td>\n",
       "    </tr>\n",
       "    <tr>\n",
       "      <th>num_values</th>\n",
       "      <td>8</td>\n",
       "      <td>16</td>\n",
       "      <td>7</td>\n",
       "      <td>14</td>\n",
       "      <td>6</td>\n",
       "      <td>5</td>\n",
       "      <td>2</td>\n",
       "      <td>41</td>\n",
       "      <td>4</td>\n",
       "    </tr>\n",
       "    <tr>\n",
       "      <th>value_ratios</th>\n",
       "      <td>{'Private': 73.6, 'Self-emp-not-inc': 8.4, 'Lo...</td>\n",
       "      <td>{'HS-grad': 32.3, 'Some-college': 22.3, 'Bache...</td>\n",
       "      <td>{'Married-civ-spouse': 45.8, 'Never-married': ...</td>\n",
       "      <td>{'Prof-specialty': 13.4, 'Craft-repair': 13.3,...</td>\n",
       "      <td>{'Husband': 40.4, 'Not-in-family': 25.7, 'Own-...</td>\n",
       "      <td>{'White': 85.5, 'Black': 9.6, 'Asian-Pac-Islan...</td>\n",
       "      <td>{'Male': 66.8, 'Female': 33.2}</td>\n",
       "      <td>{'United-States': 91.4, 'Mexico': 2.0, 'Philip...</td>\n",
       "      <td>{'&lt;=50K': 50.6, '&lt;=50K.': 25.5, '&gt;50K': 16.1, ...</td>\n",
       "    </tr>\n",
       "  </tbody>\n",
       "</table>\n",
       "</div>"
      ],
      "text/plain": [
       "                                                       workclass  \\\n",
       "missing_ratio                                           5.734128   \n",
       "num_values                                                     8   \n",
       "value_ratios   {'Private': 73.6, 'Self-emp-not-inc': 8.4, 'Lo...   \n",
       "\n",
       "                                                       education  \\\n",
       "missing_ratio                                                0.0   \n",
       "num_values                                                    16   \n",
       "value_ratios   {'HS-grad': 32.3, 'Some-college': 22.3, 'Bache...   \n",
       "\n",
       "                                                  marital-status  \\\n",
       "missing_ratio                                                0.0   \n",
       "num_values                                                     7   \n",
       "value_ratios   {'Married-civ-spouse': 45.8, 'Never-married': ...   \n",
       "\n",
       "                                                      occupation  \\\n",
       "missing_ratio                                           5.754615   \n",
       "num_values                                                    14   \n",
       "value_ratios   {'Prof-specialty': 13.4, 'Craft-repair': 13.3,...   \n",
       "\n",
       "                                                    relationship  \\\n",
       "missing_ratio                                                0.0   \n",
       "num_values                                                     6   \n",
       "value_ratios   {'Husband': 40.4, 'Not-in-family': 25.7, 'Own-...   \n",
       "\n",
       "                                                            race  \\\n",
       "missing_ratio                                                0.0   \n",
       "num_values                                                     5   \n",
       "value_ratios   {'White': 85.5, 'Black': 9.6, 'Asian-Pac-Islan...   \n",
       "\n",
       "                                          sex  \\\n",
       "missing_ratio                             0.0   \n",
       "num_values                                  2   \n",
       "value_ratios   {'Male': 66.8, 'Female': 33.2}   \n",
       "\n",
       "                                                  native-country  \\\n",
       "missing_ratio                                           1.753631   \n",
       "num_values                                                    41   \n",
       "value_ratios   {'United-States': 91.4, 'Mexico': 2.0, 'Philip...   \n",
       "\n",
       "                                                          income  \n",
       "missing_ratio                                                0.0  \n",
       "num_values                                                     4  \n",
       "value_ratios   {'<=50K': 50.6, '<=50K.': 25.5, '>50K': 16.1, ...  "
      ]
     },
     "execution_count": 33,
     "metadata": {},
     "output_type": "execute_result"
    }
   ],
   "source": [
    "object_features_dic = object_dis(raw_data)\n",
    "object_features_dic"
   ]
  },
  {
   "cell_type": "markdown",
   "metadata": {},
   "source": [
    "**Các bản ghi bị ảnh hưởng có nên được loại trừ khỏi tập dữ liệu không? Và nên thay thế bằng giá trị gì?**\n",
    "- Analyze: \n",
    "    - there are missing values in these including: `workclass`: 5.734128 , `occupation`: 5.754615\t, `native-country`: 1.753631\n",
    "    - However, these values is quite small.\n",
    "- Conclude: \n",
    "    - Handle it instead of removing these columns.  \n",
    "    - these attribute come in object or catergorical. Therefore, I will replace them with components which appear the most  "
   ]
  },
  {
   "cell_type": "code",
   "execution_count": 36,
   "metadata": {},
   "outputs": [],
   "source": [
    "missing_columns = [\"workclass\",\"occupation\", \"native-country\"]"
   ]
  },
  {
   "cell_type": "code",
   "execution_count": 37,
   "metadata": {},
   "outputs": [],
   "source": [
    "# functions which will replace by max fequency \n",
    "def replace_by_max_fequency(data, object_features_dic, features:list):\n",
    "   \n",
    "    for feature in features: \n",
    "        \n",
    "        # lấy giá trị có tần số suất hiện cao nhất bằng cách lấy vị trị (location) của value_ratios trong hàm object_dis ở trên\n",
    "        # vị trí số 0 là lớn nhất vì em đã sắp xếp các giá trị này rồi ạ.\n",
    "       replace_value = list(object_features_dic.loc['value_ratios',feature])[0] \n",
    "       \n",
    "       # handle Nan\n",
    "       data[feature] = data[feature].replace(np.nan,replace_value )\n",
    "       \n",
    "    return data\n",
    "\n",
    "raw_data = replace_by_max_fequency(raw_data,object_features_dic, missing_columns)"
   ]
  },
  {
   "cell_type": "code",
   "execution_count": 38,
   "metadata": {},
   "outputs": [
    {
     "data": {
      "text/html": [
       "<div>\n",
       "<style scoped>\n",
       "    .dataframe tbody tr th:only-of-type {\n",
       "        vertical-align: middle;\n",
       "    }\n",
       "\n",
       "    .dataframe tbody tr th {\n",
       "        vertical-align: top;\n",
       "    }\n",
       "\n",
       "    .dataframe thead th {\n",
       "        text-align: right;\n",
       "    }\n",
       "</style>\n",
       "<table border=\"1\" class=\"dataframe\">\n",
       "  <thead>\n",
       "    <tr style=\"text-align: right;\">\n",
       "      <th></th>\n",
       "      <th>workclass</th>\n",
       "      <th>education</th>\n",
       "      <th>marital-status</th>\n",
       "      <th>occupation</th>\n",
       "      <th>relationship</th>\n",
       "      <th>race</th>\n",
       "      <th>sex</th>\n",
       "      <th>native-country</th>\n",
       "      <th>income</th>\n",
       "    </tr>\n",
       "  </thead>\n",
       "  <tbody>\n",
       "    <tr>\n",
       "      <th>missing_ratio</th>\n",
       "      <td>0.0</td>\n",
       "      <td>0.0</td>\n",
       "      <td>0.0</td>\n",
       "      <td>0.0</td>\n",
       "      <td>0.0</td>\n",
       "      <td>0.0</td>\n",
       "      <td>0.0</td>\n",
       "      <td>0.0</td>\n",
       "      <td>0.0</td>\n",
       "    </tr>\n",
       "    <tr>\n",
       "      <th>num_values</th>\n",
       "      <td>8</td>\n",
       "      <td>16</td>\n",
       "      <td>7</td>\n",
       "      <td>14</td>\n",
       "      <td>6</td>\n",
       "      <td>5</td>\n",
       "      <td>2</td>\n",
       "      <td>41</td>\n",
       "      <td>4</td>\n",
       "    </tr>\n",
       "    <tr>\n",
       "      <th>value_ratios</th>\n",
       "      <td>{'Private': 75.1, 'Self-emp-not-inc': 7.9, 'Lo...</td>\n",
       "      <td>{'HS-grad': 32.3, 'Some-college': 22.3, 'Bache...</td>\n",
       "      <td>{'Married-civ-spouse': 45.8, 'Never-married': ...</td>\n",
       "      <td>{'Prof-specialty': 18.4, 'Craft-repair': 12.5,...</td>\n",
       "      <td>{'Husband': 40.4, 'Not-in-family': 25.7, 'Own-...</td>\n",
       "      <td>{'White': 85.5, 'Black': 9.6, 'Asian-Pac-Islan...</td>\n",
       "      <td>{'Male': 66.8, 'Female': 33.2}</td>\n",
       "      <td>{'United-States': 91.5, 'Mexico': 1.9, 'Philip...</td>\n",
       "      <td>{'&lt;=50K': 50.6, '&lt;=50K.': 25.5, '&gt;50K': 16.1, ...</td>\n",
       "    </tr>\n",
       "  </tbody>\n",
       "</table>\n",
       "</div>"
      ],
      "text/plain": [
       "                                                       workclass  \\\n",
       "missing_ratio                                                0.0   \n",
       "num_values                                                     8   \n",
       "value_ratios   {'Private': 75.1, 'Self-emp-not-inc': 7.9, 'Lo...   \n",
       "\n",
       "                                                       education  \\\n",
       "missing_ratio                                                0.0   \n",
       "num_values                                                    16   \n",
       "value_ratios   {'HS-grad': 32.3, 'Some-college': 22.3, 'Bache...   \n",
       "\n",
       "                                                  marital-status  \\\n",
       "missing_ratio                                                0.0   \n",
       "num_values                                                     7   \n",
       "value_ratios   {'Married-civ-spouse': 45.8, 'Never-married': ...   \n",
       "\n",
       "                                                      occupation  \\\n",
       "missing_ratio                                                0.0   \n",
       "num_values                                                    14   \n",
       "value_ratios   {'Prof-specialty': 18.4, 'Craft-repair': 12.5,...   \n",
       "\n",
       "                                                    relationship  \\\n",
       "missing_ratio                                                0.0   \n",
       "num_values                                                     6   \n",
       "value_ratios   {'Husband': 40.4, 'Not-in-family': 25.7, 'Own-...   \n",
       "\n",
       "                                                            race  \\\n",
       "missing_ratio                                                0.0   \n",
       "num_values                                                     5   \n",
       "value_ratios   {'White': 85.5, 'Black': 9.6, 'Asian-Pac-Islan...   \n",
       "\n",
       "                                          sex  \\\n",
       "missing_ratio                             0.0   \n",
       "num_values                                  2   \n",
       "value_ratios   {'Male': 66.8, 'Female': 33.2}   \n",
       "\n",
       "                                                  native-country  \\\n",
       "missing_ratio                                                0.0   \n",
       "num_values                                                    41   \n",
       "value_ratios   {'United-States': 91.5, 'Mexico': 1.9, 'Philip...   \n",
       "\n",
       "                                                          income  \n",
       "missing_ratio                                                0.0  \n",
       "num_values                                                     4  \n",
       "value_ratios   {'<=50K': 50.6, '<=50K.': 25.5, '>50K': 16.1, ...  "
      ]
     },
     "execution_count": 38,
     "metadata": {},
     "output_type": "execute_result"
    }
   ],
   "source": [
    "object_dis(raw_data)"
   ]
  }
 ],
 "metadata": {
  "kernelspec": {
   "display_name": "mle",
   "language": "python",
   "name": "python3"
  },
  "language_info": {
   "codemirror_mode": {
    "name": "ipython",
    "version": 3
   },
   "file_extension": ".py",
   "mimetype": "text/x-python",
   "name": "python",
   "nbconvert_exporter": "python",
   "pygments_lexer": "ipython3",
   "version": "3.10.16"
  }
 },
 "nbformat": 4,
 "nbformat_minor": 2
}
